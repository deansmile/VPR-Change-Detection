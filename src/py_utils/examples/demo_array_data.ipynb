{
 "cells": [
  {
   "cell_type": "code",
   "execution_count": 1,
   "metadata": {},
   "outputs": [],
   "source": [
    "import sys\n",
    "\n",
    "sys.path.append(\"..\")\n",
    "\n",
    "import numpy as np\n",
    "\n",
    "# local module\n",
    "import src.array_data as array_data"
   ]
  },
  {
   "cell_type": "code",
   "execution_count": 2,
   "metadata": {},
   "outputs": [
    {
     "data": {
      "text/plain": [
       "<TimePoseSequence contains 10 rows>"
      ]
     },
     "execution_count": 2,
     "metadata": {},
     "output_type": "execute_result"
    }
   ],
   "source": [
    "arr = array_data.TimePoseSequence(10)\n",
    "arr"
   ]
  },
  {
   "cell_type": "markdown",
   "metadata": {},
   "source": [
    "---\n",
    "Timestamps"
   ]
  },
  {
   "cell_type": "code",
   "execution_count": 3,
   "metadata": {},
   "outputs": [
    {
     "data": {
      "text/plain": [
       "array([             0,  3600000000000,  7200000000000, 10800000000000,\n",
       "       14400000000000, 18000000000000, 21600000000000, 25200000000000,\n",
       "       28800000000000, 32400000000000])"
      ]
     },
     "execution_count": 3,
     "metadata": {},
     "output_type": "execute_result"
    }
   ],
   "source": [
    "# unit: nanosecond\n",
    "# 3600 * 1e9 nanoseconds -> 1 hour\n",
    "arr.timestamps = np.arange(10) * 3600 * 1e9\n",
    "arr.timestamps"
   ]
  },
  {
   "cell_type": "code",
   "execution_count": 4,
   "metadata": {},
   "outputs": [
    {
     "data": {
      "text/plain": [
       "DatetimeIndex(['1970-01-01 00:00:00', '1970-01-01 01:00:00',\n",
       "               '1970-01-01 02:00:00', '1970-01-01 03:00:00',\n",
       "               '1970-01-01 04:00:00', '1970-01-01 05:00:00',\n",
       "               '1970-01-01 06:00:00', '1970-01-01 07:00:00',\n",
       "               '1970-01-01 08:00:00', '1970-01-01 09:00:00'],\n",
       "              dtype='datetime64[ns]', freq=None)"
      ]
     },
     "execution_count": 4,
     "metadata": {},
     "output_type": "execute_result"
    }
   ],
   "source": [
    "arr.datetime"
   ]
  },
  {
   "cell_type": "markdown",
   "metadata": {},
   "source": [
    "---\n",
    "Pose"
   ]
  },
  {
   "cell_type": "code",
   "execution_count": 5,
   "metadata": {},
   "outputs": [
    {
     "data": {
      "text/plain": [
       "array([[ 0,  1,  2],\n",
       "       [ 3,  4,  5],\n",
       "       [ 6,  7,  8],\n",
       "       [ 9, 10, 11],\n",
       "       [12, 13, 14],\n",
       "       [15, 16, 17],\n",
       "       [18, 19, 20],\n",
       "       [21, 22, 23],\n",
       "       [24, 25, 26],\n",
       "       [27, 28, 29]])"
      ]
     },
     "execution_count": 5,
     "metadata": {},
     "output_type": "execute_result"
    }
   ],
   "source": [
    "arr.xyz = np.arange(30).reshape(10, 3)\n",
    "arr.xyz"
   ]
  },
  {
   "cell_type": "code",
   "execution_count": 6,
   "metadata": {},
   "outputs": [],
   "source": [
    "arr.quaternion = np.vstack([\n",
    "    np.random.rand(10),  # x\n",
    "    np.random.rand(10),  # y\n",
    "    np.random.rand(10),  # z\n",
    "    np.ones(10),         # W\n",
    "]).T"
   ]
  },
  {
   "cell_type": "code",
   "execution_count": 7,
   "metadata": {},
   "outputs": [
    {
     "data": {
      "text/plain": [
       "array([[0.21690593, 0.18086447, 0.42296795, 1.        ],\n",
       "       [0.00722773, 0.19379819, 0.77089639, 1.        ],\n",
       "       [0.99904804, 0.8598604 , 0.74736511, 1.        ],\n",
       "       [0.2647337 , 0.48048745, 0.83377485, 1.        ],\n",
       "       [0.6190132 , 0.8756613 , 0.85752145, 1.        ],\n",
       "       [0.06379236, 0.21858379, 0.13720506, 1.        ],\n",
       "       [0.4840815 , 0.98545339, 0.05861947, 1.        ],\n",
       "       [0.32378869, 0.65393303, 0.78282093, 1.        ],\n",
       "       [0.50024423, 0.250603  , 0.44304746, 1.        ],\n",
       "       [0.17726256, 0.61242234, 0.06160832, 1.        ]])"
      ]
     },
     "execution_count": 7,
     "metadata": {},
     "output_type": "execute_result"
    }
   ],
   "source": [
    "arr.quaternion"
   ]
  },
  {
   "cell_type": "code",
   "execution_count": 8,
   "metadata": {},
   "outputs": [
    {
     "data": {
      "text/plain": [
       "((10, 3, 3),\n",
       " array([[[ 0.66374795, -0.60975443,  0.43317225],\n",
       "         [ 0.73442833,  0.64096785, -0.22310367],\n",
       "         [-0.14161103,  0.46621858,  0.87326202]],\n",
       " \n",
       "        [[ 0.2256359 , -0.94307226,  0.24434229],\n",
       "         [ 0.94650562,  0.27160159,  0.17424029],\n",
       "         [-0.23068494,  0.19195649,  0.95390627]],\n",
       " \n",
       "        [[ 0.21243325,  0.06776477,  0.97482309],\n",
       "         [ 0.9747581 ,  0.05543316, -0.21627253],\n",
       "         [-0.06869318,  0.99616018, -0.05427842]],\n",
       " \n",
       "        [[ 0.07215715, -0.70794257,  0.70257431],\n",
       "         [ 0.9628379 ,  0.23325291,  0.13614791],\n",
       "         [-0.26026241,  0.66664113,  0.6984648 ]],\n",
       " \n",
       "        [[-0.04122562, -0.21867758,  0.97492593],\n",
       "         [ 0.97013541,  0.22467738,  0.09141858],\n",
       "         [-0.23903499,  0.94957895,  0.2028844 ]],\n",
       " \n",
       "        [[ 0.87558467, -0.2302496 ,  0.42466058],\n",
       "         [ 0.28234382,  0.9572331 , -0.06314073],\n",
       "         [-0.39196104,  0.17518535,  0.90314818]],\n",
       " \n",
       "        [[ 0.11760673,  0.37885126,  0.91795445],\n",
       "         [ 0.48500318,  0.78471432, -0.38599916],\n",
       "         [-0.86656827,  0.49060693, -0.09145638]],\n",
       " \n",
       "        [[ 0.03002043, -0.53241147,  0.84595319],\n",
       "         [ 0.92720656,  0.33095073,  0.1753842 ],\n",
       "         [-0.37334538,  0.77910824,  0.50359069]],\n",
       " \n",
       "        [[ 0.65667988, -0.42095929,  0.6257514 ],\n",
       "         [ 0.75319175,  0.40830274, -0.51574321],\n",
       "         [-0.03838912,  0.80998898,  0.58518726]],\n",
       " \n",
       "        [[ 0.46272081,  0.06658432,  0.88399999],\n",
       "         [ 0.24132516,  0.95005583, -0.19787896],\n",
       "         [-0.85302498,  0.30489415,  0.42354213]]]))"
      ]
     },
     "execution_count": 8,
     "metadata": {},
     "output_type": "execute_result"
    }
   ],
   "source": [
    "arr.R.shape, arr.R"
   ]
  },
  {
   "cell_type": "markdown",
   "metadata": {},
   "source": [
    "---\n",
    "Indexing"
   ]
  },
  {
   "cell_type": "code",
   "execution_count": 9,
   "metadata": {},
   "outputs": [
    {
     "data": {
      "text/plain": [
       "DatetimeIndex(['1970-01-01 00:00:00', '1970-01-01 01:00:00',\n",
       "               '1970-01-01 02:00:00', '1970-01-01 03:00:00',\n",
       "               '1970-01-01 04:00:00', '1970-01-01 05:00:00',\n",
       "               '1970-01-01 06:00:00', '1970-01-01 07:00:00',\n",
       "               '1970-01-01 08:00:00', '1970-01-01 09:00:00'],\n",
       "              dtype='datetime64[ns]', freq=None)"
      ]
     },
     "execution_count": 9,
     "metadata": {},
     "output_type": "execute_result"
    }
   ],
   "source": [
    "arr.datetime"
   ]
  },
  {
   "cell_type": "code",
   "execution_count": 10,
   "metadata": {},
   "outputs": [
    {
     "data": {
      "text/plain": [
       "(<TimePoseSequence contains 4 rows>,\n",
       " DatetimeIndex(['1970-01-01 00:00:00', '1970-01-01 01:00:00',\n",
       "                '1970-01-01 02:00:00', '1970-01-01 03:00:00'],\n",
       "               dtype='datetime64[ns]', freq=None),\n",
       " array([[ 0,  1,  2],\n",
       "        [ 3,  4,  5],\n",
       "        [ 6,  7,  8],\n",
       "        [ 9, 10, 11]]))"
      ]
     },
     "execution_count": 10,
     "metadata": {},
     "output_type": "execute_result"
    }
   ],
   "source": [
    "foo = arr[:4]\n",
    "foo, foo.datetime, foo.xyz"
   ]
  },
  {
   "cell_type": "code",
   "execution_count": 11,
   "metadata": {},
   "outputs": [
    {
     "data": {
      "text/plain": [
       "(<TimePoseSequence contains 3 rows>,\n",
       " DatetimeIndex(['1970-01-01 01:00:00', '1970-01-01 03:00:00',\n",
       "                '1970-01-01 07:00:00'],\n",
       "               dtype='datetime64[ns]', freq=None),\n",
       " array([[ 3,  4,  5],\n",
       "        [ 9, 10, 11],\n",
       "        [21, 22, 23]]))"
      ]
     },
     "execution_count": 11,
     "metadata": {},
     "output_type": "execute_result"
    }
   ],
   "source": [
    "foo = arr[[1, 3, 7]]\n",
    "foo, foo.datetime, foo.xyz"
   ]
  },
  {
   "cell_type": "code",
   "execution_count": 12,
   "metadata": {},
   "outputs": [
    {
     "data": {
      "text/plain": [
       "array([1, 3, 7])"
      ]
     },
     "execution_count": 12,
     "metadata": {},
     "output_type": "execute_result"
    }
   ],
   "source": [
    "foo.index"
   ]
  }
 ],
 "metadata": {
  "kernelspec": {
   "display_name": "py3.9.6.point-cd",
   "language": "python",
   "name": "python3"
  },
  "language_info": {
   "codemirror_mode": {
    "name": "ipython",
    "version": 3
   },
   "file_extension": ".py",
   "mimetype": "text/x-python",
   "name": "python",
   "nbconvert_exporter": "python",
   "pygments_lexer": "ipython3",
   "version": "3.9.6"
  }
 },
 "nbformat": 4,
 "nbformat_minor": 2
}
