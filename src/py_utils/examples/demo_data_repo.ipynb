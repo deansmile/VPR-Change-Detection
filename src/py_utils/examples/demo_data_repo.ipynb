{
 "cells": [
  {
   "cell_type": "code",
   "execution_count": 1,
   "metadata": {},
   "outputs": [],
   "source": [
    "import os\n",
    "import sys\n",
    "\n",
    "sys.path.append(\"..\")\n",
    "\n",
    "import dill\n",
    "import numpy as np\n",
    "\n",
    "# local module\n",
    "import src.data_repo as data_repo"
   ]
  },
  {
   "cell_type": "markdown",
   "metadata": {},
   "source": [
    "---\n",
    "writing time comparison: numpy vs dill"
   ]
  },
  {
   "cell_type": "code",
   "execution_count": 2,
   "metadata": {},
   "outputs": [
    {
     "data": {
      "text/plain": [
       "762.939453125"
      ]
     },
     "execution_count": 2,
     "metadata": {},
     "output_type": "execute_result"
    }
   ],
   "source": [
    "# hundred million float64\n",
    "foo = np.random.rand(1000000, 100)\n",
    "\n",
    "# estimate how many megabytes will take in local file system\n",
    "num_bits = 1e8 * 64\n",
    "num_bytes = num_bits / 8.\n",
    "num_mb = num_bytes / 2**20\n",
    "num_mb"
   ]
  },
  {
   "cell_type": "code",
   "execution_count": 3,
   "metadata": {},
   "outputs": [
    {
     "name": "stdout",
     "output_type": "stream",
     "text": [
      "CPU times: user 0 ns, sys: 3.11 s, total: 3.11 s\n",
      "Wall time: 3.12 s\n"
     ]
    }
   ],
   "source": [
    "%%time\n",
    "for i in range(10):\n",
    "    np.save('foo.npy', foo)"
   ]
  },
  {
   "cell_type": "code",
   "execution_count": 4,
   "metadata": {},
   "outputs": [
    {
     "name": "stdout",
     "output_type": "stream",
     "text": [
      "CPU times: user 590 ms, sys: 5.09 s, total: 5.68 s\n",
      "Wall time: 9.78 s\n"
     ]
    }
   ],
   "source": [
    "%%time\n",
    "for i in range(10):\n",
    "    with open('foo.dill', 'wb') as fd:\n",
    "        dill.dump(foo, fd)"
   ]
  },
  {
   "cell_type": "code",
   "execution_count": 5,
   "metadata": {},
   "outputs": [
    {
     "name": "stdout",
     "output_type": "stream",
     "text": [
      "-rw-rw-r-- 1 chad 763M Mar 14 17:41 foo.dill\n",
      "-rw-rw-r-- 1 chad 763M Mar 14 17:40 foo.npy\n"
     ]
    }
   ],
   "source": [
    "ll -h | grep foo"
   ]
  },
  {
   "cell_type": "code",
   "execution_count": 6,
   "metadata": {},
   "outputs": [],
   "source": [
    "os.remove('foo.npy')\n",
    "os.remove('foo.dill')"
   ]
  },
  {
   "cell_type": "markdown",
   "metadata": {},
   "source": [
    "---"
   ]
  },
  {
   "cell_type": "code",
   "execution_count": 7,
   "metadata": {},
   "outputs": [],
   "source": [
    "os.mkdir('temp')\n",
    "repo = data_repo.DataRepositoryObserver('temp')"
   ]
  },
  {
   "cell_type": "code",
   "execution_count": 8,
   "metadata": {},
   "outputs": [],
   "source": [
    "foo = {\n",
    "    'A': 1,\n",
    "    'B': [1, 2, 3],\n",
    "    'C': lambda x: x**2,\n",
    "    'D': np.random.rand(3, 3)\n",
    "}"
   ]
  },
  {
   "cell_type": "code",
   "execution_count": 9,
   "metadata": {},
   "outputs": [],
   "source": [
    "repo.add_item('foo.1', foo, version=1, include_function=True)"
   ]
  },
  {
   "cell_type": "code",
   "execution_count": 10,
   "metadata": {},
   "outputs": [
    {
     "data": {
      "text/plain": [
       "{'foo.1.dill': {'version': 1, 'include_function': True}}"
      ]
     },
     "execution_count": 10,
     "metadata": {},
     "output_type": "execute_result"
    }
   ],
   "source": [
    "repo.list_items()"
   ]
  },
  {
   "cell_type": "code",
   "execution_count": 11,
   "metadata": {},
   "outputs": [],
   "source": [
    "repo.add_item('foo.2', foo, version=2, include_function=True)\n",
    "repo.add_item('foo.3', foo, version=4, include_function=True)\n",
    "repo.add_item('foo.4', foo, version=3, include_function=True)"
   ]
  },
  {
   "cell_type": "code",
   "execution_count": 12,
   "metadata": {},
   "outputs": [
    {
     "data": {
      "text/plain": [
       "{'foo.1.dill': {'version': 1, 'include_function': True},\n",
       " 'foo.2.dill': {'version': 2, 'include_function': True},\n",
       " 'foo.3.dill': {'version': 4, 'include_function': True},\n",
       " 'foo.4.dill': {'version': 3, 'include_function': True}}"
      ]
     },
     "execution_count": 12,
     "metadata": {},
     "output_type": "execute_result"
    }
   ],
   "source": [
    "repo.list_items()"
   ]
  },
  {
   "cell_type": "code",
   "execution_count": 13,
   "metadata": {},
   "outputs": [
    {
     "data": {
      "text/plain": [
       "{'foo.1.dill': {'version': 1, 'include_function': True},\n",
       " 'foo.2.dill': {'version': 2, 'include_function': True},\n",
       " 'foo.4.dill': {'version': 3, 'include_function': True}}"
      ]
     },
     "execution_count": 13,
     "metadata": {},
     "output_type": "execute_result"
    }
   ],
   "source": [
    "def filter_by(name, attr):\n",
    "    if 'version' not in attr:\n",
    "        return False\n",
    "\n",
    "    if attr['version'] > 3:\n",
    "        return False\n",
    "\n",
    "    return True\n",
    "\n",
    "repo.list_items(filter_by=filter_by)"
   ]
  },
  {
   "cell_type": "code",
   "execution_count": 14,
   "metadata": {},
   "outputs": [
    {
     "data": {
      "text/plain": [
       "{'version': 1, 'include_function': True}"
      ]
     },
     "execution_count": 14,
     "metadata": {},
     "output_type": "execute_result"
    }
   ],
   "source": [
    "obj = repo.get_item('foo.1.dill')\n",
    "attr = repo.get_attribute('foo.1.dill')\n",
    "attr"
   ]
  },
  {
   "cell_type": "code",
   "execution_count": 15,
   "metadata": {},
   "outputs": [
    {
     "data": {
      "text/plain": [
       "{'A': 1,\n",
       " 'B': [1, 2, 3],\n",
       " 'C': <function __main__.<lambda>(x)>,\n",
       " 'D': array([[0.17362361, 0.12705383, 0.50843423],\n",
       "        [0.89882034, 0.69169428, 0.6531218 ],\n",
       "        [0.14940929, 0.50270324, 0.6693362 ]])}"
      ]
     },
     "execution_count": 15,
     "metadata": {},
     "output_type": "execute_result"
    }
   ],
   "source": [
    "obj"
   ]
  },
  {
   "cell_type": "code",
   "execution_count": 16,
   "metadata": {},
   "outputs": [
    {
     "data": {
      "text/plain": [
       "9"
      ]
     },
     "execution_count": 16,
     "metadata": {},
     "output_type": "execute_result"
    }
   ],
   "source": [
    "obj['C'](3)"
   ]
  },
  {
   "cell_type": "code",
   "execution_count": 17,
   "metadata": {},
   "outputs": [],
   "source": [
    "foo = np.random.rand(10, 3)\n",
    "repo.add_item('foo.1', foo, version=1, include_function=False)\n",
    "repo.add_item('foo.2', foo, version=1, include_function=False)\n",
    "repo.add_item('foo.3', foo, version=1, include_function=False)"
   ]
  },
  {
   "cell_type": "code",
   "execution_count": 18,
   "metadata": {},
   "outputs": [
    {
     "data": {
      "text/plain": [
       "{'foo.1.dill': {'version': 1, 'include_function': True},\n",
       " 'foo.2.dill': {'version': 2, 'include_function': True},\n",
       " 'foo.3.dill': {'version': 4, 'include_function': True},\n",
       " 'foo.4.dill': {'version': 3, 'include_function': True},\n",
       " 'foo.1.npy': {'version': 1, 'include_function': False},\n",
       " 'foo.2.npy': {'version': 1, 'include_function': False},\n",
       " 'foo.3.npy': {'version': 1, 'include_function': False}}"
      ]
     },
     "execution_count": 18,
     "metadata": {},
     "output_type": "execute_result"
    }
   ],
   "source": [
    "repo.list_items()"
   ]
  },
  {
   "cell_type": "code",
   "execution_count": 19,
   "metadata": {},
   "outputs": [],
   "source": [
    "rm -rf ./temp"
   ]
  }
 ],
 "metadata": {
  "kernelspec": {
   "display_name": "py3.9.6.point-cd",
   "language": "python",
   "name": "python3"
  },
  "language_info": {
   "codemirror_mode": {
    "name": "ipython",
    "version": 3
   },
   "file_extension": ".py",
   "mimetype": "text/x-python",
   "name": "python",
   "nbconvert_exporter": "python",
   "pygments_lexer": "ipython3",
   "version": "3.9.6"
  }
 },
 "nbformat": 4,
 "nbformat_minor": 2
}
